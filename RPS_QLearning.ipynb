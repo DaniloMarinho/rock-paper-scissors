{
 "cells": [
  {
   "cell_type": "code",
   "execution_count": 2,
   "metadata": {},
   "outputs": [],
   "source": [
    "import matplotlib.pyplot as plt\n",
    "import numpy as np\n",
    "import random\n",
    "import math\n",
    "%matplotlib inline"
   ]
  },
  {
   "cell_type": "code",
   "execution_count": 3,
   "metadata": {},
   "outputs": [],
   "source": [
    "A = [\"R\",\"P\",\"S\"] # Actions\n",
    "K = 2 # Memory length"
   ]
  },
  {
   "cell_type": "code",
   "execution_count": 4,
   "metadata": {},
   "outputs": [],
   "source": [
    "def Win(X,Y): # Determine if X beats Y\n",
    "    if X == 'R' and Y == 'S':\n",
    "        return True\n",
    "    if X == 'S' and Y == 'P':\n",
    "        return True\n",
    "    if X == 'P' and Y == 'R':\n",
    "        return True\n",
    "    return False"
   ]
  },
  {
   "cell_type": "code",
   "execution_count": 5,
   "metadata": {},
   "outputs": [
    {
     "name": "stdout",
     "output_type": "stream",
     "text": [
      "{'R': 0, 'P': 0, 'S': 0}\n"
     ]
    }
   ],
   "source": [
    "# Returns a list [R, P, S] with the total number of times each\n",
    "# acion has been performed after the given state\n",
    "def Nb(Hist, State):\n",
    "    R = P = S = 0\n",
    "    for i in range(K,len(Hist)):\n",
    "        if Hist[i-K:i] == State:\n",
    "            R += (Hist[i][0] == 'R')\n",
    "            P += (Hist[i][0] == 'P')\n",
    "            S += (Hist[i][0] == 'S')\n",
    "    return {\"R\":R, \"P\":P, \"S\":S}\n",
    "\n",
    "TestHist = [['R','P'],['R','S'],['P','P'],['R','S'],['S','S'],['R','P'],['R','S'],['P','P'],['S','S'],['S','S']]\n",
    "TestState = [['R','S'],['P','P']]\n",
    "\n",
    "print(Nb(TestState,TestHist))"
   ]
  },
  {
   "cell_type": "code",
   "execution_count": 6,
   "metadata": {},
   "outputs": [
    {
     "name": "stdout",
     "output_type": "stream",
     "text": [
      "{'R': 1, 'P': 0, 'S': 0}\n"
     ]
    }
   ],
   "source": [
    "# Q estimator\n",
    "def Q(Hist, State):\n",
    "    R = P = S = 0\n",
    "    for i in range(K,len(Hist)):\n",
    "        if Hist[i-K:i] == State:\n",
    "            if Win(Hist[i][0], Hist[i][1]): # first lign: algorithm\n",
    "                R += (Hist[i][0] == 'R')\n",
    "                P += (Hist[i][0] == 'P')\n",
    "                S += (Hist[i][0] == 'S')\n",
    "    return {\"R\":R, \"P\":P, \"S\":S}\n",
    "\n",
    "TestHist = [['R','P'],['R','S'],['P','P'],['R','S'],['S','S'],['R','P'],['R','S'],['P','P'],['S','S'],['S','S']]\n",
    "TestState = [['R','S'],['P','P']]\n",
    "\n",
    "print(Q(TestHist,TestState))"
   ]
  },
  {
   "cell_type": "code",
   "execution_count": 7,
   "metadata": {},
   "outputs": [],
   "source": [
    "# Return \"R\",\"P\",\"S\" with probabilities p,q,r\n",
    "def RandomPlay(p,q,r):\n",
    "    x = random.uniform(0,1)\n",
    "    if x<p:\n",
    "        return 'R'\n",
    "    elif x<p+q:\n",
    "        return 'P'\n",
    "    else:\n",
    "        return 'S'"
   ]
  },
  {
   "cell_type": "code",
   "execution_count": 8,
   "metadata": {},
   "outputs": [],
   "source": [
    "# Receives a dict of the form {R: N_R, P: N_P, S: N_S}\n",
    "# Returns one of the keys with maximal value with equal probability\n",
    "def ArgMax(s):\n",
    "    R = s['R']\n",
    "    P = s['P']\n",
    "    S = s['S']\n",
    "    if R > P and R > S:\n",
    "        return \"R\"\n",
    "    elif P > R and P > S:\n",
    "        return \"P\"\n",
    "    elif S > P and S > R:\n",
    "        return \"S\"\n",
    "    elif R == P and R == S:\n",
    "        return RandomPlay(1/3,1/3,1/3)\n",
    "    elif R == P:\n",
    "        r = random.random()\n",
    "        if r > 0.5:\n",
    "            return \"R\"\n",
    "        else:\n",
    "            return \"P\"\n",
    "    elif R == S:\n",
    "        r = random.random()\n",
    "        if r > 0.5:\n",
    "            return \"R\"\n",
    "        else:\n",
    "            return \"S\"\n",
    "    elif S == P:\n",
    "        r = random.random()\n",
    "        if r > 0.5:\n",
    "            return \"S\"\n",
    "        else:\n",
    "            return \"P\""
   ]
  },
  {
   "cell_type": "code",
   "execution_count": 9,
   "metadata": {},
   "outputs": [
    {
     "name": "stdout",
     "output_type": "stream",
     "text": [
      "P\n"
     ]
    }
   ],
   "source": [
    "# e-greedy step\n",
    "def e_greedy(Hist,eps):\n",
    "    x = random.uniform(0,1)\n",
    "    if x>eps:\n",
    "        return ArgMax(Q(Hist, Hist[-K:]))\n",
    "    else:\n",
    "        return RandomPlay(1/3,1/3,1/3)\n",
    "\n",
    "TestHist = [['R','P'],['R','S'],['P','P'],['P','R'],['P','P'],['R','S'],['P','P'],['P','R'],['R','P'],['R','S'],['P','P']]\n",
    "print(e_greedy(TestHist, 0.1))"
   ]
  },
  {
   "cell_type": "code",
   "execution_count": 10,
   "metadata": {},
   "outputs": [],
   "source": [
    "# Optimal answer for a given policy\n",
    "def OptimalAnswer(p,q,r):\n",
    "    m = max(r-q, p-r, q-p)\n",
    "    x = (int)(m == r-q)\n",
    "    y = (int)(m == p-r)\n",
    "    z = (int)(m == q-p)\n",
    "    return (x,y,z)\n",
    "\n",
    "# Regret of taking an action given a policy\n",
    "def Regret(Action, pol):\n",
    "    if Action == \"R\" and OptimalAnswer(pol[0],pol[1],pol[2])[0] == 1:\n",
    "        return 0\n",
    "    elif Action == \"P\" and OptimalAnswer(pol[0],pol[1],pol[2])[1] == 1:\n",
    "        return 0\n",
    "    elif Action == \"S\" and OptimalAnswer(pol[0],pol[1],pol[2])[2] == 1:\n",
    "        return 0\n",
    "    else:\n",
    "        return 1"
   ]
  },
  {
   "cell_type": "code",
   "execution_count": 11,
   "metadata": {},
   "outputs": [],
   "source": [
    "# Simulation with constant e-greedy\n",
    "# Opponent adopts a simple policy: play rock, paper or scissors\n",
    "# with probabilitites 0.1, 0.2 or 0.7, respectively\n",
    "\n",
    "N = 10000\n",
    "\n",
    "Hist = []\n",
    "Hist.append([RandomPlay(1/3,1/3,1/3),RandomPlay(1/3,1/3,1/3)])\n",
    "Hist.append([RandomPlay(1/3,1/3,1/3),RandomPlay(1/3,1/3,1/3)])\n",
    "\n",
    "eps = 0.2\n",
    "pol = [0.1,0.2,0.7]\n",
    "\n",
    "for i in range(N):\n",
    "    choice_x = e_greedy(Hist,eps)\n",
    "    choice_y = RandomPlay(pol[0],pol[1],pol[2])\n",
    "    Hist.append([choice_x,choice_y])\n",
    "    \n",
    "Wins = np.zeros(N)\n",
    "Regrets = np.zeros(N)\n",
    "for i in range(N):\n",
    "    Wins[i] = Win(Hist[i][0],Hist[i][1])\n",
    "    Regrets[i] = Regret(Hist[i][0],pol)\n",
    "Wins = np.cumsum(Wins)/[i+1 for i in range(N)]\n",
    "Total_regret = np.cumsum(Regrets)"
   ]
  },
  {
   "cell_type": "code",
   "execution_count": 12,
   "metadata": {},
   "outputs": [
    {
     "data": {
      "text/plain": [
       "Text(0, 0.5, 'Regret total')"
      ]
     },
     "execution_count": 12,
     "metadata": {},
     "output_type": "execute_result"
    },
    {
     "name": "stderr",
     "output_type": "stream",
     "text": [
      "findfont: Font family ['normal'] not found. Falling back to DejaVu Sans.\n",
      "findfont: Font family ['normal'] not found. Falling back to DejaVu Sans.\n"
     ]
    },
    {
     "data": {
      "image/png": "[encoded data removed]",
      "text/plain": [
       "<Figure size 864x360 with 2 Axes>"
      ]
     },
     "metadata": {
      "needs_background": "light"
     },
     "output_type": "display_data"
    }
   ],
   "source": [
    "# Plot victory rate and regret\n",
    "\n",
    "import matplotlib\n",
    "\n",
    "font = {'family' : 'normal',\n",
    "        'weight' : 'normal',\n",
    "        'size'   : 14}\n",
    "\n",
    "matplotlib.rc('font', **font)\n",
    "\n",
    "plt.figure(figsize=(12,5)) \n",
    "\n",
    "plt.subplot(1, 2, 1)\n",
    "plt.plot(Wins)\n",
    "plt.title(\"$\\epsilon$-greedy, $\\epsilon = 0.2$\")\n",
    "plt.xlabel('N')\n",
    "plt.ylabel('Taux de victoire')\n",
    "\n",
    "plt.subplot(1, 2, 2)\n",
    "plt.plot(Total_regret)\n",
    "plt.title(\"$\\epsilon$-greedy, $\\epsilon = 0.2$\")\n",
    "plt.xlabel('N')\n",
    "plt.ylabel('Regret total')"
   ]
  },
  {
   "cell_type": "code",
   "execution_count": 13,
   "metadata": {},
   "outputs": [],
   "source": [
    "# Simulation with constant 100/n e-greedy\n",
    "# Opponent adopts a simple policy: play rock, paper or scissors\n",
    "# with probabilitites 0.1, 0.2 or 0.7, respectively\n",
    "\n",
    "N = 10000\n",
    "\n",
    "Hist = []\n",
    "Hist.append([RandomPlay(1/3,1/3,1/3),RandomPlay(1/3,1/3,1/3)])\n",
    "Hist.append([RandomPlay(1/3,1/3,1/3),RandomPlay(1/3,1/3,1/3)])\n",
    "\n",
    "pol = [0.1,0.2,0.7]\n",
    "\n",
    "for i in range(N):\n",
    "    eps = 100/(i+1)\n",
    "    # State = Hist[-K:]\n",
    "    choice_x = e_greedy(Hist,eps)\n",
    "    choice_y = RandomPlay(pol[0],pol[1],pol[2])\n",
    "    Hist.append([choice_x,choice_y])\n",
    "    \n",
    "Wins = np.zeros(N)\n",
    "Regrets = np.zeros(N)\n",
    "for i in range(N):\n",
    "    Wins[i] = Win(Hist[i][0],Hist[i][1])\n",
    "    Regrets[i] = Regret(Hist[i][0],pol)\n",
    "Wins = np.cumsum(Wins)/[i+1 for i in range(N)]\n",
    "Total_regret = np.cumsum(Regrets)"
   ]
  },
  {
   "cell_type": "code",
   "execution_count": 14,
   "metadata": {},
   "outputs": [
    {
     "data": {
      "text/plain": [
       "Text(0, 0.5, 'Regret total (log)')"
      ]
     },
     "execution_count": 14,
     "metadata": {},
     "output_type": "execute_result"
    },
    {
     "data": {
      "image/png": "[encoded data removed]",
      "text/plain": [
       "<Figure size 864x360 with 2 Axes>"
      ]
     },
     "metadata": {
      "needs_background": "light"
     },
     "output_type": "display_data"
    }
   ],
   "source": [
    "# Plot victory rate and regret\n",
    "\n",
    "plt.figure(figsize=(12,5)) \n",
    "\n",
    "plt.subplot(1, 2, 1)\n",
    "plt.plot(Wins)\n",
    "plt.title(\"$\\epsilon$-greedy, $\\epsilon_t = 100/t$\")\n",
    "plt.xlabel('N')\n",
    "plt.ylabel('Taux de victoire')\n",
    "\n",
    "plt.subplot(1, 2, 2)\n",
    "plt.yscale('log')\n",
    "plt.plot(Total_regret)\n",
    "plt.title(\"$\\epsilon$-greedy, $\\epsilon_t = 100/t$\")\n",
    "plt.xlabel('N')\n",
    "plt.ylabel('Regret total (log)')"
   ]
  },
  {
   "cell_type": "code",
   "execution_count": 15,
   "metadata": {},
   "outputs": [
    {
     "name": "stdout",
     "output_type": "stream",
     "text": [
      "P\n"
     ]
    }
   ],
   "source": [
    "# UCB algorithm\n",
    "\n",
    "def U(Hist):\n",
    "    n = Nb(Hist, Hist[-K:])\n",
    "    t = len(Hist)\n",
    "    return {\"R\": Q(Hist, Hist[-K:])[\"R\"] + math.sqrt(2*math.log(t)/(max(n[\"R\"],1))),\n",
    "            \"P\": Q(Hist, Hist[-K:])[\"P\"] + math.sqrt(2*math.log(t)/(max(n[\"P\"],1))),\n",
    "            \"S\": Q(Hist, Hist[-K:])[\"S\"] + math.sqrt(2*math.log(t)/(max(n[\"S\"],1)))}\n",
    "\n",
    "def UCB(Hist,eps):\n",
    "    return ArgMax(U(Hist))\n",
    "\n",
    "TestHist = [['R','P'],['R','S'],['P','P'],['P','R'],['P','P'],['R','S'],['P','P'],['P','R'],['R','P'],['R','S'],['P','P']]\n",
    "print(UCB(TestHist, 0.1))"
   ]
  },
  {
   "cell_type": "code",
   "execution_count": 16,
   "metadata": {},
   "outputs": [],
   "source": [
    "# Simulation of UCB\n",
    "# Opponent adopts a simple policy: play rock, paper or scissors\n",
    "# with probabilitites 0.1, 0.2 or 0.7, respectively\n",
    "\n",
    "N = 2000\n",
    "\n",
    "Hist = []\n",
    "Hist.append([RandomPlay(1/3,1/3,1/3),RandomPlay(1/3,1/3,1/3)])\n",
    "Hist.append([RandomPlay(1/3,1/3,1/3),RandomPlay(1/3,1/3,1/3)])\n",
    "\n",
    "eps = 0.1\n",
    "pol = [0.1,0.2,0.7]\n",
    "\n",
    "for i in range(N):\n",
    "    # State = Hist[-K:]\n",
    "    choice_x = UCB(Hist,eps)\n",
    "    choice_y = RandomPlay(pol[0],pol[1],pol[2])\n",
    "    Hist.append([choice_x,choice_y])\n",
    "    \n",
    "Wins = np.zeros(N)\n",
    "Regrets = np.zeros(N)\n",
    "for i in range(N):\n",
    "    Wins[i] = Win(Hist[i][0],Hist[i][1])\n",
    "    Regrets[i] = Regret(Hist[i][0],pol)\n",
    "Wins = np.cumsum(Wins)/[i+1 for i in range(N)]\n",
    "Total_regret = np.cumsum(Regrets)"
   ]
  },
  {
   "cell_type": "code",
   "execution_count": 17,
   "metadata": {},
   "outputs": [
    {
     "data": {
      "text/plain": [
       "Text(0, 0.5, 'Regret total (log)')"
      ]
     },
     "execution_count": 17,
     "metadata": {},
     "output_type": "execute_result"
    },
    {
     "data": {
      "image/png": "[encoded data removed]",
      "text/plain": [
       "<Figure size 864x360 with 2 Axes>"
      ]
     },
     "metadata": {
      "needs_background": "light"
     },
     "output_type": "display_data"
    }
   ],
   "source": [
    "# Plot victory rate and regret\n",
    "\n",
    "plt.figure(figsize=(12,5)) \n",
    "\n",
    "plt.subplot(1, 2, 1)\n",
    "plt.plot(Wins)\n",
    "plt.title(\"UCB\")\n",
    "plt.xlabel('N')\n",
    "plt.ylabel('Taux de victoire')\n",
    "\n",
    "plt.subplot(1, 2, 2)\n",
    "plt.yscale('log')\n",
    "plt.plot(Total_regret)\n",
    "plt.title(\"UCB\")\n",
    "plt.xlabel('N')\n",
    "plt.ylabel('Regret total (log)')"
   ]
  },
  {
   "cell_type": "code",
   "execution_count": null,
   "metadata": {},
   "outputs": [],
   "source": []
  }
 ],
 "metadata": {
  "kernelspec": {
   "display_name": "Python 3",
   "language": "python",
   "name": "python3"
  },
  "language_info": {
   "codemirror_mode": {
    "name": "ipython",
    "version": 3
   },
   "file_extension": ".py",
   "mimetype": "text/x-python",
   "name": "python",
   "nbconvert_exporter": "python",
   "pygments_lexer": "ipython3",
   "version": "3.7.6"
  }
 },
 "nbformat": 4,
 "nbformat_minor": 4
}
